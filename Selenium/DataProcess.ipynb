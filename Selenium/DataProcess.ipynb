{
 "cells": [
  {
   "cell_type": "code",
   "execution_count": 1,
   "id": "7c89c6a1",
   "metadata": {},
   "outputs": [],
   "source": [
    "import pandas as pd\n",
    "import numpy as np\n",
    "\n",
    "fileNameStr = './d3.csv'\n",
    "\n",
    "DataDF = pd.read_csv(fileNameStr, encoding=\"utf-8\",dtype=str)"
   ]
  },
  {
   "cell_type": "code",
   "execution_count": 2,
   "id": "769fcf01",
   "metadata": {},
   "outputs": [
    {
     "name": "stdout",
     "output_type": "stream",
     "text": [
      "(452, 5)\n"
     ]
    }
   ],
   "source": [
    "print(DataDF.shape)"
   ]
  },
  {
   "cell_type": "code",
   "execution_count": 3,
   "id": "e6a86590",
   "metadata": {},
   "outputs": [
    {
     "data": {
      "text/html": [
       "<div>\n",
       "<style scoped>\n",
       "    .dataframe tbody tr th:only-of-type {\n",
       "        vertical-align: middle;\n",
       "    }\n",
       "\n",
       "    .dataframe tbody tr th {\n",
       "        vertical-align: top;\n",
       "    }\n",
       "\n",
       "    .dataframe thead th {\n",
       "        text-align: right;\n",
       "    }\n",
       "</style>\n",
       "<table border=\"1\" class=\"dataframe\">\n",
       "  <thead>\n",
       "    <tr style=\"text-align: right;\">\n",
       "      <th></th>\n",
       "      <th>职位名称</th>\n",
       "      <th>技能</th>\n",
       "      <th>薪资</th>\n",
       "      <th>学历要求</th>\n",
       "      <th>地区</th>\n",
       "    </tr>\n",
       "  </thead>\n",
       "  <tbody>\n",
       "    <tr>\n",
       "      <th>0</th>\n",
       "      <td>数据挖掘</td>\n",
       "      <td>['Python', 'SQL', '数学/统计相关专业']</td>\n",
       "      <td>25-50K</td>\n",
       "      <td>硕士</td>\n",
       "      <td>北京</td>\n",
       "    </tr>\n",
       "    <tr>\n",
       "      <th>1</th>\n",
       "      <td>数据挖掘</td>\n",
       "      <td>['Python', 'Scala', 'Shell', 'SQL', '深度学习算法', ...</td>\n",
       "      <td>22-30K·15薪</td>\n",
       "      <td>硕士</td>\n",
       "      <td>深圳</td>\n",
       "    </tr>\n",
       "    <tr>\n",
       "      <th>2</th>\n",
       "      <td>数据挖掘</td>\n",
       "      <td>['TensorFlow', 'PyTorch', 'GBDT']</td>\n",
       "      <td>15-20K</td>\n",
       "      <td>硕士</td>\n",
       "      <td>张掖</td>\n",
       "    </tr>\n",
       "    <tr>\n",
       "      <th>3</th>\n",
       "      <td>数据挖掘</td>\n",
       "      <td>['计算机相关专业', '数学/统计相关专业', '大数据处理经验']</td>\n",
       "      <td>3-5K</td>\n",
       "      <td>大专</td>\n",
       "      <td>宝鸡</td>\n",
       "    </tr>\n",
       "    <tr>\n",
       "      <th>4</th>\n",
       "      <td>数据挖掘工程师</td>\n",
       "      <td>['数据挖掘']</td>\n",
       "      <td>20-40K·14薪</td>\n",
       "      <td>硕士</td>\n",
       "      <td>北京</td>\n",
       "    </tr>\n",
       "  </tbody>\n",
       "</table>\n",
       "</div>"
      ],
      "text/plain": [
       "      职位名称                                                 技能          薪资  \\\n",
       "0     数据挖掘                     ['Python', 'SQL', '数学/统计相关专业']      25-50K   \n",
       "1     数据挖掘  ['Python', 'Scala', 'Shell', 'SQL', '深度学习算法', ...  22-30K·15薪   \n",
       "2     数据挖掘                  ['TensorFlow', 'PyTorch', 'GBDT']      15-20K   \n",
       "3     数据挖掘                ['计算机相关专业', '数学/统计相关专业', '大数据处理经验']        3-5K   \n",
       "4  数据挖掘工程师                                           ['数据挖掘']  20-40K·14薪   \n",
       "\n",
       "  学历要求  地区  \n",
       "0   硕士  北京  \n",
       "1   硕士  深圳  \n",
       "2   硕士  张掖  \n",
       "3   大专  宝鸡  \n",
       "4   硕士  北京  "
      ]
     },
     "execution_count": 3,
     "metadata": {},
     "output_type": "execute_result"
    }
   ],
   "source": [
    "DataDF.head()"
   ]
  },
  {
   "cell_type": "code",
   "execution_count": null,
   "id": "2fd29419",
   "metadata": {},
   "outputs": [],
   "source": []
  },
  {
   "cell_type": "code",
   "execution_count": null,
   "id": "58b52ecc",
   "metadata": {},
   "outputs": [],
   "source": []
  },
  {
   "cell_type": "code",
   "execution_count": 35,
   "id": "6f68b6bd",
   "metadata": {
    "scrolled": true
   },
   "outputs": [
    {
     "data": {
      "text/plain": [
       "职位名称    object\n",
       "技能      object\n",
       "薪资      object\n",
       "dtype: object"
      ]
     },
     "execution_count": 35,
     "metadata": {},
     "output_type": "execute_result"
    }
   ],
   "source": [
    "DataDF.astype(str).dtypes"
   ]
  },
  {
   "cell_type": "code",
   "execution_count": 42,
   "id": "72d9c75e",
   "metadata": {},
   "outputs": [
    {
     "data": {
      "text/plain": [
       "职位名称    object\n",
       "技能      object\n",
       "薪资      object\n",
       "dtype: object"
      ]
     },
     "execution_count": 42,
     "metadata": {},
     "output_type": "execute_result"
    }
   ],
   "source": [
    "DataDF.dtypes"
   ]
  },
  {
   "cell_type": "code",
   "execution_count": 4,
   "id": "0d6a3f23",
   "metadata": {
    "scrolled": false
   },
   "outputs": [
    {
     "data": {
      "text/plain": [
       "0                         ['Python', 'SQL', '数学/统计相关专业']\n",
       "1      ['Python', 'Scala', 'Shell', 'SQL', '深度学习算法', ...\n",
       "2                      ['TensorFlow', 'PyTorch', 'GBDT']\n",
       "3                    ['计算机相关专业', '数学/统计相关专业', '大数据处理经验']\n",
       "4                                               ['数据挖掘']\n",
       "                             ...                        \n",
       "447    ['Python', 'TensorFlow', 'PyTorch', '计算机相关专业',...\n",
       "448    ['容器技术', '消息队列', '网络编程', 'Django', 'MySQL', ''...\n",
       "449    ['网络爬虫技术', '搜索引擎技术', 'Linux', 'Redis', 'NoSQL'...\n",
       "450    ['Python', 'C++', 'JavaScript', 'C语言', 'Python...\n",
       "451    ['C/C++', 'C++', '机器学习/算法工程', '计算机相关专业', '', '...\n",
       "Name: 技能, Length: 452, dtype: object"
      ]
     },
     "execution_count": 4,
     "metadata": {},
     "output_type": "execute_result"
    }
   ],
   "source": [
    "import re\n",
    "skills=DataDF['技能']\n",
    "skills"
   ]
  },
  {
   "cell_type": "code",
   "execution_count": null,
   "id": "99cd4c0e",
   "metadata": {},
   "outputs": [],
   "source": [
    "字符串转数组，去除‘"
   ]
  },
  {
   "cell_type": "code",
   "execution_count": 5,
   "id": "a4d9eceb",
   "metadata": {},
   "outputs": [
    {
     "data": {
      "text/plain": [
       "0                             [Python, SQL, 数学/统计相关专业]\n",
       "1        [Python, Scala, Shell, SQL, 深度学习算法, 推荐算法, , ]\n",
       "2                          [TensorFlow, PyTorch, GBDT]\n",
       "3                        [计算机相关专业, 数学/统计相关专业, 大数据处理经验]\n",
       "4                                               [数据挖掘]\n",
       "                            ...                       \n",
       "447         [Python, TensorFlow, PyTorch, 计算机相关专业, , ]\n",
       "448            [容器技术, 消息队列, 网络编程, Django, MySQL, , , ]\n",
       "449        [网络爬虫技术, 搜索引擎技术, Linux, Redis, NoSQL, , , ]\n",
       "450    [Python, C++, JavaScript, C语言, Python工程师, , , ]\n",
       "451             [C/C++, C++, 机器学习/算法工程, 计算机相关专业, , , ]\n",
       "Name: 技能, Length: 452, dtype: object"
      ]
     },
     "execution_count": 5,
     "metadata": {},
     "output_type": "execute_result"
    }
   ],
   "source": [
    "def func(s):\n",
    "    a=s.replace(\"'\",\"\")\n",
    "    b=a.replace(\"[\",'')\n",
    "    c=b.replace(\"]\",'')\n",
    "    d=c.replace(\" \",\"\")\n",
    "    e=d.split(\",\")\n",
    "    return e\n",
    "for i in range(0,len(skills)):\n",
    "    skills[i]=func(str(skills[i]))\n",
    "skills"
   ]
  },
  {
   "cell_type": "markdown",
   "id": "1450f4a1",
   "metadata": {},
   "source": [
    "去除空值"
   ]
  },
  {
   "cell_type": "code",
   "execution_count": 6,
   "id": "fbfc549a",
   "metadata": {},
   "outputs": [
    {
     "data": {
      "text/plain": [
       "0                       [Python, SQL, 数学/统计相关专业]\n",
       "1      [Python, Scala, Shell, SQL, 深度学习算法, 推荐算法]\n",
       "2                    [TensorFlow, PyTorch, GBDT]\n",
       "3                  [计算机相关专业, 数学/统计相关专业, 大数据处理经验]\n",
       "4                                         [数据挖掘]\n",
       "                         ...                    \n",
       "447       [Python, TensorFlow, PyTorch, 计算机相关专业]\n",
       "448            [容器技术, 消息队列, 网络编程, Django, MySQL]\n",
       "449        [网络爬虫技术, 搜索引擎技术, Linux, Redis, NoSQL]\n",
       "450    [Python, C++, JavaScript, C语言, Python工程师]\n",
       "451             [C/C++, C++, 机器学习/算法工程, 计算机相关专业]\n",
       "Name: 技能, Length: 452, dtype: object"
      ]
     },
     "execution_count": 6,
     "metadata": {},
     "output_type": "execute_result"
    }
   ],
   "source": [
    "for item in skills:\n",
    "    while '' in item:\n",
    "        item.remove('')\n",
    "skills"
   ]
  },
  {
   "cell_type": "markdown",
   "id": "af176564",
   "metadata": {},
   "source": [
    "筛选无效tag词，并去除"
   ]
  },
  {
   "cell_type": "code",
   "execution_count": 135,
   "id": "cda664da",
   "metadata": {},
   "outputs": [
    {
     "data": {
      "text/plain": [
       "['厂内食堂', '有餐补', '4-8人间宿舍', '坐班', '车间流水线']"
      ]
     },
     "execution_count": 135,
     "metadata": {},
     "output_type": "execute_result"
    }
   ],
   "source": [
    "skills[236]"
   ]
  },
  {
   "cell_type": "code",
   "execution_count": 134,
   "id": "cdf1d803",
   "metadata": {},
   "outputs": [
    {
     "data": {
      "text/html": [
       "<div>\n",
       "<style scoped>\n",
       "    .dataframe tbody tr th:only-of-type {\n",
       "        vertical-align: middle;\n",
       "    }\n",
       "\n",
       "    .dataframe tbody tr th {\n",
       "        vertical-align: top;\n",
       "    }\n",
       "\n",
       "    .dataframe thead th {\n",
       "        text-align: right;\n",
       "    }\n",
       "</style>\n",
       "<table border=\"1\" class=\"dataframe\">\n",
       "  <thead>\n",
       "    <tr style=\"text-align: right;\">\n",
       "      <th></th>\n",
       "      <th>职位名称</th>\n",
       "      <th>技能</th>\n",
       "      <th>薪资</th>\n",
       "    </tr>\n",
       "  </thead>\n",
       "  <tbody>\n",
       "    <tr>\n",
       "      <th>167</th>\n",
       "      <td>厨房经理</td>\n",
       "      <td>[包吃包住, 加班费, 夜班补助, 免费工装, 宿舍有空调]</td>\n",
       "      <td>7-8K</td>\n",
       "    </tr>\n",
       "    <tr>\n",
       "      <th>206</th>\n",
       "      <td>妹子家公司招聘蛋糕/裱花师</td>\n",
       "      <td>[蛋糕店, 餐补, 加班费, 1-3年, 包吃包住, 宿舍有空调]</td>\n",
       "      <td>5-7K</td>\n",
       "    </tr>\n",
       "    <tr>\n",
       "      <th>236</th>\n",
       "      <td>生产普工</td>\n",
       "      <td>[厂内食堂, 有餐补, 4-8人间宿舍, 坐班, 车间流水线]</td>\n",
       "      <td>3.5-4.5K</td>\n",
       "    </tr>\n",
       "  </tbody>\n",
       "</table>\n",
       "</div>"
      ],
      "text/plain": [
       "              职位名称                                 技能        薪资\n",
       "167           厨房经理     [包吃包住, 加班费, 夜班补助, 免费工装, 宿舍有空调]      7-8K\n",
       "206  妹子家公司招聘蛋糕/裱花师  [蛋糕店, 餐补, 加班费, 1-3年, 包吃包住, 宿舍有空调]      5-7K\n",
       "236           生产普工    [厂内食堂, 有餐补, 4-8人间宿舍, 坐班, 车间流水线]  3.5-4.5K"
      ]
     },
     "execution_count": 134,
     "metadata": {},
     "output_type": "execute_result"
    }
   ],
   "source": [
    "DataDF.loc[DataDF['技能'].astype(str).str.contains('宿舍')]"
   ]
  },
  {
   "cell_type": "code",
   "execution_count": 7,
   "id": "d76a4293",
   "metadata": {},
   "outputs": [
    {
     "data": {
      "text/plain": [
       "0                       [Python, SQL, 数学/统计相关专业]\n",
       "1      [Python, Scala, Shell, SQL, 深度学习算法, 推荐算法]\n",
       "2                    [TensorFlow, PyTorch, GBDT]\n",
       "3                  [计算机相关专业, 数学/统计相关专业, 大数据处理经验]\n",
       "4                                         [数据挖掘]\n",
       "                         ...                    \n",
       "447       [Python, TensorFlow, PyTorch, 计算机相关专业]\n",
       "448            [容器技术, 消息队列, 网络编程, Django, MySQL]\n",
       "449        [网络爬虫技术, 搜索引擎技术, Linux, Redis, NoSQL]\n",
       "450    [Python, C++, JavaScript, C语言, Python工程师]\n",
       "451             [C/C++, C++, 机器学习/算法工程, 计算机相关专业]\n",
       "Name: 技能, Length: 452, dtype: object"
      ]
     },
     "execution_count": 7,
     "metadata": {},
     "output_type": "execute_result"
    }
   ],
   "source": [
    "DataDF['技能']"
   ]
  },
  {
   "cell_type": "code",
   "execution_count": null,
   "id": "a8e1e96c",
   "metadata": {},
   "outputs": [],
   "source": [
    "存入csv文件"
   ]
  },
  {
   "cell_type": "code",
   "execution_count": 8,
   "id": "b21d3cd5",
   "metadata": {},
   "outputs": [],
   "source": [
    "DataDF.to_csv('new_d3.csv',index=False)"
   ]
  },
  {
   "cell_type": "code",
   "execution_count": null,
   "id": "8969bd09",
   "metadata": {},
   "outputs": [],
   "source": []
  }
 ],
 "metadata": {
  "kernelspec": {
   "display_name": "Python 3 (ipykernel)",
   "language": "python",
   "name": "python3"
  },
  "language_info": {
   "codemirror_mode": {
    "name": "ipython",
    "version": 3
   },
   "file_extension": ".py",
   "mimetype": "text/x-python",
   "name": "python",
   "nbconvert_exporter": "python",
   "pygments_lexer": "ipython3",
   "version": "3.9.13"
  }
 },
 "nbformat": 4,
 "nbformat_minor": 5
}
